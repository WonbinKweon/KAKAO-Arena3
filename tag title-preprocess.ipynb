{
 "cells": [
  {
   "cell_type": "code",
   "execution_count": 13,
   "metadata": {},
   "outputs": [],
   "source": [
    "import numpy as np\n",
    "from data import load, load_tmp\n",
    "from tqdm import tqdm\n",
    "\n",
    "import json\n",
    "\n",
    "import os\n",
    "from scipy import sparse\n",
    "from collections import Counter\n",
    "import re\n",
    "\n",
    "import pickle"
   ]
  },
  {
   "cell_type": "code",
   "execution_count": 14,
   "metadata": {},
   "outputs": [],
   "source": [
    "base_path = './data_kakao/'\n",
    "train_playId_set,public_playId_set,final_playId_set,\\\n",
    "train_songId_set,public_songId_set,final_songId_set,\\\n",
    "playId2songIds,playId2tags,playId2tagIds,playId2title, \\\n",
    "songId2playIds,tag2playIds,tag2tagId,tagId2tag,\\\n",
    "songId2albumId,songId2artistIds,songId2name,songId2gnrs,songId2dtlgnrs,songId2gnrIds,\\\n",
    "songId2date,songId2year,songId2month, playId_w_tags, playId2updt, songId2artists = load_tmp(base_path)"
   ]
  },
  {
   "cell_type": "code",
   "execution_count": 15,
   "metadata": {},
   "outputs": [],
   "source": [
    "from khaiii import KhaiiiApi\n",
    "api = KhaiiiApi()\n",
    "\n",
    "playId2tag_morph = dict()\n",
    "\n",
    "for playId in playId2tags:\n",
    "    title = playId2tags[playId]\n",
    "    title = ' '.join(title)\n",
    "    words = []\n",
    "    if title == '\\u3000\\u3000\\u3000\\u3000\\u3000\\u3000\\u3000\\u3000' or len(title) == 0 or len(title.strip()) ==0: title = '무제'\n",
    "    \n",
    "    for word in api.analyze(title):\n",
    "        for morph in word.morphs:\n",
    "            tmp = str(morph.lex +\"/\" + morph.tag)\n",
    "            words.append(tmp)\n",
    "            \n",
    "    playId2tag_morph[playId] = words"
   ]
  },
  {
   "cell_type": "code",
   "execution_count": 16,
   "metadata": {},
   "outputs": [],
   "source": [
    "from khaiii import KhaiiiApi\n",
    "api = KhaiiiApi()\n",
    "\n",
    "playId2title_morph = dict()\n",
    "\n",
    "for playId in playId2title:\n",
    "    title = playId2title[playId]\n",
    "    words = []\n",
    "    if title == '\\u3000\\u3000\\u3000\\u3000\\u3000\\u3000\\u3000\\u3000' or len(title) == 0 or len(title.strip()) ==0: title = '무제'\n",
    "    \n",
    "    for word in api.analyze(title):\n",
    "        for morph in word.morphs:\n",
    "            tmp = str(morph.lex +\"/\" + morph.tag)\n",
    "            words.append(tmp)\n",
    "            \n",
    "    playId2title_morph[playId] = words"
   ]
  },
  {
   "cell_type": "code",
   "execution_count": 17,
   "metadata": {},
   "outputs": [],
   "source": [
    "with open(base_path + 'data/playId2tag_morph', 'wb') as f:\n",
    "    pickle.dump(playId2tag_morph, f)     "
   ]
  },
  {
   "cell_type": "code",
   "execution_count": 18,
   "metadata": {},
   "outputs": [],
   "source": [
    "with open(base_path + 'data/playId2title_morph', 'wb') as f:\n",
    "    pickle.dump(playId2title_morph, f)        "
   ]
  },
  {
   "cell_type": "code",
   "execution_count": 19,
   "metadata": {},
   "outputs": [],
   "source": [
    "base_path = './data_kakao/'\n",
    "train_playId_set,public_playId_set,final_playId_set,\\\n",
    "train_songId_set,public_songId_set,final_songId_set,\\\n",
    "playId2songIds,playId2tags,playId2tagIds,playId2title, \\\n",
    "songId2playIds,tag2playIds,tag2tagId,tagId2tag,\\\n",
    "songId2albumId,songId2artistIds,songId2name,songId2gnrs,songId2dtlgnrs,songId2gnrIds,\\\n",
    "songId2date,songId2year,songId2month, playId_w_tags, playId2title_morph, playId2tag_morph, playId2updt, songId2artists = load(base_path)"
   ]
  },
  {
   "cell_type": "code",
   "execution_count": 20,
   "metadata": {},
   "outputs": [],
   "source": [
    "total_playId_set = set(train_playId_set) | set(public_playId_set) | set(final_playId_set)\n",
    "len(total_playId_set), max(total_playId_set)\n",
    "total_playlist_count = max(total_playId_set) + 1\n",
    "\n",
    "total_song_set = set(train_songId_set) | set(public_songId_set) | set(final_songId_set)\n",
    "len(total_song_set), max(total_song_set)\n",
    "total_song_count = max(total_song_set) + 1\n",
    "\n",
    "final_playId_set = set(final_playId_set)\n",
    "public_playId_set = set(public_playId_set)"
   ]
  },
  {
   "cell_type": "code",
   "execution_count": 21,
   "metadata": {},
   "outputs": [],
   "source": [
    "from khaiii import KhaiiiApi\n",
    "api = KhaiiiApi()"
   ]
  },
  {
   "cell_type": "code",
   "execution_count": 22,
   "metadata": {},
   "outputs": [
    {
     "name": "stderr",
     "output_type": "stream",
     "text": [
      "100%|██████████| 148826/148826 [01:27<00:00, 1704.90it/s]\n"
     ]
    }
   ],
   "source": [
    "playId2title_tag_morph = dict()\n",
    "\n",
    "for playId in tqdm(list(set(list(playId2tags.keys()) + list(playId2title.keys())))):\n",
    "    tags = playId2tags[playId]\n",
    "    tags = ' '.join(tags)\n",
    "    \n",
    "    title = playId2title[playId]\n",
    "    \n",
    "    words = []\n",
    "    if tags == '\\u3000\\u3000\\u3000\\u3000\\u3000\\u3000\\u3000\\u3000' or len(tags) == 0 or len(tags.strip()) ==0: tags = ''\n",
    "    if title == '\\u3000\\u3000\\u3000\\u3000\\u3000\\u3000\\u3000\\u3000' or len(title) == 0 or len(title.strip()) ==0: title = ''\n",
    "    if tags == '' and title == '': continue\n",
    "    \n",
    "    for word in api.analyze(tags + title):\n",
    "        for morph in word.morphs:\n",
    "            tmp = str(morph.lex +\"/\" + morph.tag)\n",
    "            words.append(tmp)\n",
    "            \n",
    "    playId2title_tag_morph[playId] = words"
   ]
  },
  {
   "cell_type": "code",
   "execution_count": 23,
   "metadata": {},
   "outputs": [
    {
     "name": "stderr",
     "output_type": "stream",
     "text": [
      "100%|██████████| 134652/134652 [00:01<00:00, 82340.74it/s]\n"
     ]
    }
   ],
   "source": [
    "# 품사 filtering\n",
    "\n",
    "playId2title_tag = dict()\n",
    "\n",
    "POS = ['NNG', 'SN', 'MAG', 'SL', 'VV', 'NR', 'NNP']\n",
    "\n",
    "for playId in tqdm(playId2title_tag_morph):\n",
    "    morphs = playId2title_tag_morph[playId]\n",
    "    \n",
    "    new_morphs = []\n",
    "    for morph in morphs:\n",
    "        tmp = morph.split('/')\n",
    "        if tmp[-1] not in POS: continue\n",
    "        new_morphs.append(tmp[0])\n",
    "    \n",
    "    # tags\n",
    "    tags = playId2tags[playId]\n",
    "    new_morphs.extend(tags)\n",
    "    \n",
    "    # title\n",
    "    title = playId2title[playId]\n",
    "    for word in re.findall(r\"[\\w']+\", title):\n",
    "        if word in tag2tagId:\n",
    "            new_morphs.append(word)\n",
    "    \n",
    "    playId2title_tag[playId] = new_morphs"
   ]
  },
  {
   "cell_type": "code",
   "execution_count": 26,
   "metadata": {},
   "outputs": [],
   "source": [
    "with open('playId2title_tag', 'wb') as f:\n",
    "    pickle.dump(playId2title_tag, f)"
   ]
  },
  {
   "cell_type": "code",
   "execution_count": null,
   "metadata": {},
   "outputs": [],
   "source": []
  }
 ],
 "metadata": {
  "kernelspec": {
   "display_name": "torch",
   "language": "python",
   "name": "torch"
  },
  "language_info": {
   "codemirror_mode": {
    "name": "ipython",
    "version": 3
   },
   "file_extension": ".py",
   "mimetype": "text/x-python",
   "name": "python",
   "nbconvert_exporter": "python",
   "pygments_lexer": "ipython3",
   "version": "3.6.10"
  }
 },
 "nbformat": 4,
 "nbformat_minor": 4
}
